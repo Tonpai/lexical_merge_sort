{
 "cells": [
  {
   "cell_type": "markdown",
   "metadata": {},
   "source": [
    "# Lexical Merge Sort\n",
    "Python author: Mr.Tanadon Ratsameephen\n",
    "Java author (original version): \n",
    "    `https://stackoverflow.com/questions/20795158/sorting-names-using-merge-sort`\n"
   ]
  },
  {
   "cell_type": "code",
   "execution_count": 1,
   "metadata": {},
   "outputs": [],
   "source": [
    "import math\n",
    "from typing import List\n",
    "\n",
    "\n",
    "def mergesort(names: List[str]):\n",
    "    if len(names) >= 2:\n",
    "        left = []\n",
    "        right = []\n",
    "        \n",
    "        left_len = math.floor(len(names) / 2)\n",
    "        right_len = len(names) - left_len\n",
    "        \n",
    "        for i in range(left_len):\n",
    "            left.append(names[i])\n",
    "        \n",
    "        for i in range(right_len):\n",
    "            right.append(names[i + left_len])\n",
    "\n",
    "        mergesort(left)\n",
    "        mergesort(right)\n",
    "        \n",
    "        merge(names, left, right)"
   ]
  },
  {
   "cell_type": "code",
   "execution_count": 2,
   "metadata": {},
   "outputs": [],
   "source": [
    "def merge(names: List[str], left: List[str], right: List[str]):\n",
    "    a = 0\n",
    "    b = 0\n",
    "    \n",
    "    for i in range(len(names)):\n",
    "        if b >= len(right) or (a < len(left) and left[a] < right[b]):\n",
    "            names[i] = left[a]\n",
    "            a = a + 1\n",
    "        else:\n",
    "            names[i] = right[b]\n",
    "            b = b + 1"
   ]
  },
  {
   "cell_type": "code",
   "execution_count": 3,
   "metadata": {},
   "outputs": [
    {
     "data": {
      "text/plain": [
       "['Mr.SIMIXAY HEUANG OUTHAI',\n",
       " 'นางสาวกมลธิดา มะลิต้น',\n",
       " 'นางสาวณัฐธิดา วรรธนะปกรณ์',\n",
       " 'นางสาวพรรณศิริ ศิริสมพงษ์',\n",
       " 'นางสาววชิรกาญจน์ เสือบัว',\n",
       " 'นางสาวสิริยากร แพงแก้ว',\n",
       " 'นายกฤดิกร วิชชาธรตระกูล',\n",
       " 'นายกิตติกาญจน์ เจริญรัตน์',\n",
       " 'นายธนดล รัศมีเพ็ญ',\n",
       " 'นายธนวันต์ แวทไธสง',\n",
       " 'นายธนาธิป แวทไธสง',\n",
       " 'นายธนโชติ พลน้ำเที่ยง',\n",
       " 'นายภาณุวัชร์ นิรานนท์',\n",
       " 'นายภาณุวัฒน์ แก้วบ่อ']"
      ]
     },
     "execution_count": 3,
     "metadata": {},
     "output_type": "execute_result"
    }
   ],
   "source": [
    "dataset = [\n",
    "    'นายธนดล รัศมีเพ็ญ',\n",
    "    'นางสาวสิริยากร แพงแก้ว',\n",
    "    'นายกิตติกาญจน์ เจริญรัตน์',\n",
    "    'นายธนวันต์ แวทไธสง',\n",
    "    'นายธนาธิป แวทไธสง',\n",
    "    'นางสาวณัฐธิดา วรรธนะปกรณ์',\n",
    "    'Mr.SIMIXAY HEUANG OUTHAI',\n",
    "    'นายธนโชติ พลน้ำเที่ยง',\n",
    "    'นายกฤดิกร วิชชาธรตระกูล',\n",
    "    'นายภาณุวัฒน์ แก้วบ่อ',\n",
    "    'นางสาววชิรกาญจน์ เสือบัว',\n",
    "    'นางสาวกมลธิดา มะลิต้น',\n",
    "    'นางสาวพรรณศิริ ศิริสมพงษ์',\n",
    "    'นายภาณุวัชร์ นิรานนท์'\n",
    "]\n",
    "\n",
    "mergesort(dataset)\n",
    "dataset"
   ]
  }
 ],
 "metadata": {
  "kernelspec": {
   "display_name": "Python 3",
   "language": "python",
   "name": "python3"
  },
  "language_info": {
   "codemirror_mode": {
    "name": "ipython",
    "version": 3
   },
   "file_extension": ".py",
   "mimetype": "text/x-python",
   "name": "python",
   "nbconvert_exporter": "python",
   "pygments_lexer": "ipython3",
   "version": "3.7.4"
  }
 },
 "nbformat": 4,
 "nbformat_minor": 2
}
